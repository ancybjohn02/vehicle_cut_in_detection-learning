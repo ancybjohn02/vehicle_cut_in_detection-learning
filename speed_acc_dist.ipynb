{
 "cells": [
  {
   "cell_type": "markdown",
   "metadata": {},
   "source": [
    "### Load the necessary libraries and set up the Argoverse API:"
   ]
  },
  {
   "cell_type": "code",
   "execution_count": null,
   "metadata": {},
   "outputs": [],
   "source": [
    "from argoverse.data_loading.argoverse_tracking_loader import ArgoverseTrackingLoader\n",
    "from argoverse import ArgoverseMap\n",
    "\n",
    "dataset_dir = '/path/to/argoverse/tracking/dataset'\n",
    "loader = ArgoverseTrackingLoader(dataset_dir)\n",
    "map_api = ArgoverseMap()\n"
   ]
  },
  {
   "cell_type": "markdown",
   "metadata": {},
   "source": [
    "### Load the sensor data and vehicle tracks for a specific sequence:"
   ]
  },
  {
   "cell_type": "code",
   "execution_count": null,
   "metadata": {},
   "outputs": [],
   "source": [
    "log_id = 'sequence_name'\n",
    "data = loader.get(log_id)\n"
   ]
  },
  {
   "cell_type": "markdown",
   "metadata": {},
   "source": [
    "### Iterate over the frames and tracked vehicles:"
   ]
  },
  {
   "cell_type": "code",
   "execution_count": null,
   "metadata": {},
   "outputs": [],
   "source": [
    "for timestamp, track_dict in data.items():\n",
    "    for track_id, track in track_dict.items():\n",
    "        # Extract the vehicle's position and timestamp\n",
    "        x, y, z = track.x, track.y, track.z\n",
    "        timestamp = track.timestamp\n"
   ]
  },
  {
   "cell_type": "markdown",
   "metadata": {},
   "source": [
    "### Calculate relative speed between the ego-vehicle and each tracked vehicle"
   ]
  },
  {
   "cell_type": "markdown",
   "metadata": {},
   "source": [
    "ego_speed = ... # Calculate the ego-vehicle's speed\n",
    "relative_speed = track.v - ego_speed\n"
   ]
  },
  {
   "cell_type": "markdown",
   "metadata": {},
   "source": [
    "### Use the map data to enhance your calculations"
   ]
  },
  {
   "cell_type": "markdown",
   "metadata": {},
   "source": [
    "lane_segments = map_api.get_lane_segments_containing_xy(x, y)\n",
    "# Use the lane information to refine your calculations\n"
   ]
  },
  {
   "cell_type": "markdown",
   "metadata": {},
   "source": [
    "### Store the calculated values for each tracked vehicle and frame"
   ]
  },
  {
   "cell_type": "markdown",
   "metadata": {},
   "source": [
    "relative_speeds[track_id].append(relative_speed)\n",
    "relative_accelerations[track_id].append(relative_acceleration)\n",
    "relative_distances[track_id].append(relative_distance)\n"
   ]
  },
  {
   "cell_type": "markdown",
   "metadata": {},
   "source": [
    "### Visualize the results or perform further analysis"
   ]
  },
  {
   "cell_type": "markdown",
   "metadata": {},
   "source": [
    "# Visualize the relative motion using the Argoverse API\n",
    "map_api.render_polyline_2d([(x, y) for x, y in zip(ego_xs, ego_ys)], color='r')\n"
   ]
  },
  {
   "cell_type": "markdown",
   "metadata": {},
   "source": [
    "### another effective method "
   ]
  },
  {
   "cell_type": "code",
   "execution_count": null,
   "metadata": {},
   "outputs": [],
   "source": [
    "from argoverse.data_loading.argoverse_tracking_loader import ArgoverseTrackingLoader\n",
    "from argoverse.map_representation.map_api import ArgoverseMap\n",
    "import numpy as np\n",
    "\n",
    "# Load the Argoverse Tracking Dataset v1.1\n",
    "dataset_dir = '/path/to/argoverse/tracking/dataset'\n",
    "loader = ArgoverseTrackingLoader(dataset_dir)\n",
    "map_api = ArgoverseMap()\n",
    "\n",
    "# Load sensor data and vehicle tracks for a specific sequence\n",
    "log_id = 'sequence_name'\n",
    "data = loader.get(log_id)\n",
    "\n",
    "# Initialize dictionaries to store speed, acceleration, and distance\n",
    "speeds = {}\n",
    "accelerations = {}\n",
    "distances = {}\n",
    "ttcs = {}\n",
    "\n",
    "# Iterate over frames and tracked vehicles\n",
    "for timestamp, track_dict in data.items():\n",
    "    for track_id, track in track_dict.items():\n",
    "        # Extract vehicle position and timestamp\n",
    "        x, y, z = track.x, track.y, track.z\n",
    "        timestamp = track.timestamp\n",
    "        \n",
    "        # Calculate speed\n",
    "        if track_id in speeds:\n",
    "            prev_pos = np.array([speeds[track_id][-1][0], speeds[track_id][-1][1]])\n",
    "            curr_pos = np.array([x, y])\n",
    "            dist = np.linalg.norm(curr_pos - prev_pos)\n",
    "            time_diff = timestamp - speeds[track_id][-1][2]\n",
    "            speed = dist / time_diff\n",
    "            speeds[track_id].append((x, y, speed))\n",
    "        else:\n",
    "            speeds[track_id] = [(x, y, timestamp)]\n",
    "        \n",
    "        # Calculate acceleration\n",
    "        if track_id in accelerations:\n",
    "            prev_speed = accelerations[track_id][-1][2]\n",
    "            acceleration = (speed - prev_speed) / time_diff\n",
    "            accelerations[track_id].append((x, y, acceleration))\n",
    "        else:\n",
    "            accelerations[track_id] = [(x, y, 0)]\n",
    "        \n",
    "        # Calculate distance to ego-vehicle\n",
    "        ego_x, ego_y, ego_z = ... # Get ego-vehicle position\n",
    "        distance = np.sqrt((x - ego_x)**2 + (y - ego_y)**2 + (z - ego_z)**2)\n",
    "        if track_id in distances:\n",
    "            distances[track_id].append(distance)\n",
    "        else:\n",
    "            distances[track_id] = [distance]\n",
    "        \n",
    "        # Calculate time-to-collision (TTC)\n",
    "        if speed < 0:  # Vehicles are approaching each other\n",
    "            ttc = distance / speed\n",
    "            if track_id in ttcs:\n",
    "                ttcs[track_id].append(ttc)\n",
    "            else:\n",
    "                ttcs[track_id] = [ttc]\n",
    "        else:\n",
    "            if track_id in ttcs:\n",
    "                ttcs[track_id].append(float('inf'))\n",
    "            else:\n",
    "                ttcs[track_id] = [float('inf')]\n"
   ]
  }
 ],
 "metadata": {
  "kernelspec": {
   "display_name": "venv",
   "language": "python",
   "name": "python3"
  },
  "language_info": {
   "codemirror_mode": {
    "name": "ipython",
    "version": 3
   },
   "file_extension": ".py",
   "mimetype": "text/x-python",
   "name": "python",
   "nbconvert_exporter": "python",
   "pygments_lexer": "ipython3",
   "version": "3.11.6"
  }
 },
 "nbformat": 4,
 "nbformat_minor": 2
}
